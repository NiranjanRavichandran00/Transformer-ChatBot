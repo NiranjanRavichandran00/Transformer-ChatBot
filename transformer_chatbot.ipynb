{
 "cells": [
  {
   "cell_type": "markdown",
   "metadata": {
    "id": "nd8ddC7NQ8uZ",
    "pycharm": {
     "name": "#%% md\n"
    }
   },
   "source": [
    "# Minecraft Q/A Chatbot"
   ]
  },
  {
   "cell_type": "code",
   "execution_count": 1,
   "metadata": {
    "colab": {
     "base_uri": "https://localhost:8080/"
    },
    "id": "mb_5bl7G_n30",
    "outputId": "9f282b2e-cd9a-41aa-8485-5acc72c9db9d",
    "pycharm": {
     "name": "#%%\n"
    }
   },
   "outputs": [
    {
     "name": "stderr",
     "output_type": "stream",
     "text": [
      "C:\\Users\\Niranjan\\anaconda3\\envs\\py39\\lib\\site-packages\\tqdm\\auto.py:21: TqdmWarning: IProgress not found. Please update jupyter and ipywidgets. See https://ipywidgets.readthedocs.io/en/stable/user_install.html\n",
      "  from .autonotebook import tqdm as notebook_tqdm\n"
     ]
    },
    {
     "name": "stdout",
     "output_type": "stream",
     "text": [
      "Tensorflow version 2.9.1\n"
     ]
    }
   ],
   "source": [
    "from __future__ import absolute_import, division, print_function, unicode_literals\n",
    "\n",
    "import sys\n",
    "\n",
    "import os\n",
    "import re\n",
    "import numpy as np\n",
    "from time import time\n",
    "import tensorflow as tf\n",
    "import matplotlib.pyplot as plt\n",
    "import tensorflow_datasets as tfds\n",
    "\n",
    "tf.keras.utils.set_random_seed(1234)\n",
    "\n",
    "print(f\"Tensorflow version {tf.__version__}\")"
   ]
  },
  {
   "cell_type": "markdown",
   "metadata": {
    "id": "-YXFrSnNE_2j",
    "pycharm": {
     "name": "#%% md\n"
    }
   },
   "source": [
    "### GPU  initialization\n",
    "\n",
    "Setup GPU strategy for hardware acceleration\n"
   ]
  },
  {
   "cell_type": "code",
   "execution_count": 13,
   "metadata": {
    "colab": {
     "base_uri": "https://localhost:8080/"
    },
    "id": "Rz2ZbpAREmRA",
    "outputId": "dfa51f49-1001-4177-bd73-5170c5f1e79e",
    "pycharm": {
     "name": "#%%\n"
    }
   },
   "outputs": [
    {
     "name": "stdout",
     "output_type": "stream",
     "text": [
      "No GPU available, falling back to CPU/GPU strategy\n"
     ]
    }
   ],
   "source": [
    "gpus = tf.config.experimental.list_physical_devices('GPU')\n",
    "\n",
    "if gpus:\n",
    "    # Create a MirroredStrategy.\n",
    "    strategy = tf.distribute.MirroredStrategy()\n",
    "\n",
    "    # Print the number of replicas.\n",
    "    print(f\"REPLICAS: {strategy.num_replicas_in_sync}\")\n",
    "else:\n",
    "    print(\"No GPU available, falling back to CPU/GPU strategy\")\n",
    "    strategy = tf.distribute.get_strategy()"
   ]
  },
  {
   "cell_type": "markdown",
   "metadata": {
    "id": "skMfzRV5cEnb",
    "pycharm": {
     "name": "#%% md\n"
    }
   },
   "source": [
    "## Hyperparameters\n"
   ]
  },
  {
   "cell_type": "code",
   "execution_count": 2,
   "metadata": {
    "id": "alnYEatYcHp7",
    "pycharm": {
     "name": "#%%\n"
    }
   },
   "outputs": [],
   "source": [
    "# Maximum sentence length\n",
    "MAX_LENGTH = 50\n",
    "\n",
    "# For tf.data.Dataset\n",
    "#BATCH_SIZE = 64 * strategy.num_replicas_in_sync\n",
    "BUFFER_SIZE = 20000\n",
    "\n",
    "# For Transformer\n",
    "NUM_LAYERS = 4\n",
    "D_MODEL = 256\n",
    "NUM_HEADS = 8\n",
    "UNITS = 512\n",
    "DROPOUT = 0.1\n",
    "\n",
    "EPOCHS = 60"
   ]
  },
  {
   "cell_type": "markdown",
   "metadata": {
    "id": "iZMuzj0cVr3E",
    "pycharm": {
     "name": "#%% md\n"
    }
   },
   "source": [
    "### Load and preprocess data\n"
   ]
  },
  {
   "cell_type": "code",
   "execution_count": 3,
   "metadata": {
    "id": "_B147qKb_0ks",
    "pycharm": {
     "name": "#%%\n"
    }
   },
   "outputs": [],
   "source": [
    "def preprocess_sentence(sentence):\n",
    "    sentence = sentence.lower().strip()\n",
    "    # creating a space between a word and the punctuation following it\n",
    "    # eg: \"he is a boy.\" => \"he is a boy .\"\n",
    "    sentence = re.sub(r\"([?.!,])\", r\" \\1 \", sentence)\n",
    "    sentence = re.sub(r'[\" \"]+', \" \", sentence)\n",
    "    # removing contractions\n",
    "    sentence = re.sub(r\"i'm\", \"i am\", sentence)\n",
    "    sentence = re.sub(r\"he's\", \"he is\", sentence)\n",
    "    sentence = re.sub(r\"she's\", \"she is\", sentence)\n",
    "    sentence = re.sub(r\"it's\", \"it is\", sentence)\n",
    "    sentence = re.sub(r\"that's\", \"that is\", sentence)\n",
    "    sentence = re.sub(r\"what's\", \"that is\", sentence)\n",
    "    sentence = re.sub(r\"where's\", \"where is\", sentence)\n",
    "    sentence = re.sub(r\"how's\", \"how is\", sentence)\n",
    "    sentence = re.sub(r\"\\'ll\", \" will\", sentence)\n",
    "    sentence = re.sub(r\"\\'ve\", \" have\", sentence)\n",
    "    sentence = re.sub(r\"\\'re\", \" are\", sentence)\n",
    "    sentence = re.sub(r\"\\'d\", \" would\", sentence)\n",
    "    sentence = re.sub(r\"\\'re\", \" are\", sentence)\n",
    "    sentence = re.sub(r\"won't\", \"will not\", sentence)\n",
    "    sentence = re.sub(r\"can't\", \"cannot\", sentence)\n",
    "    sentence = re.sub(r\"n't\", \" not\", sentence)\n",
    "    sentence = re.sub(r\"n'\", \"ng\", sentence)\n",
    "    sentence = re.sub(r\"'bout\", \"about\", sentence)\n",
    "    # replacing everything with space except (a-z, A-Z, \".\", \"?\", \"!\", \",\")\n",
    "    sentence = re.sub(r\"[^a-zA-Z?.!,]+\", \" \", sentence)\n",
    "    sentence = sentence.strip()\n",
    "    return sentence\n",
    "\n",
    "\n",
    "from datasets import load_dataset\n",
    "\n",
    "# Load dataset from Hugging Face\n",
    "dataset = load_dataset(\"naklecha/minecraft-question-answer-700k\")\n",
    "\n",
    "# Access train split\n",
    "train_data = dataset[\"train\"]\n",
    "\n",
    "# Extract questions, answers, and sources from the dataset\n",
    "questions = [preprocess_sentence(example[\"question\"]) for example in train_data]\n",
    "answers = [preprocess_sentence(example[\"answer\"]) for example in train_data]\n"
   ]
  },
  {
   "cell_type": "code",
   "execution_count": 4,
   "metadata": {
    "id": "s6XX2udMTCQt",
    "pycharm": {
     "name": "#%%\n"
    }
   },
   "outputs": [],
   "source": [
    "# Build tokenizer using tfds for both questions and answers\n",
    "tokenizer = tfds.deprecated.text.SubwordTextEncoder.build_from_corpus(\n",
    "    questions + answers, target_vocab_size=2**13\n",
    ")\n",
    "\n",
    "# Define start and end token to indicate the start and end of a sentence\n",
    "START_TOKEN, END_TOKEN = [tokenizer.vocab_size], [tokenizer.vocab_size + 1]\n",
    "\n",
    "# Vocabulary size plus start and end token\n",
    "VOCAB_SIZE = tokenizer.vocab_size + 2"
   ]
  },
  {
   "cell_type": "code",
   "execution_count": 9,
   "metadata": {
    "id": "YESTPgeg_XgT",
    "pycharm": {
     "name": "#%%\n"
    }
   },
   "outputs": [],
   "source": [
    "# Tokenize, filter and pad sentences\n",
    "def tokenize_and_filter(inputs, outputs):\n",
    "    tokenized_inputs, tokenized_outputs = [], []\n",
    "\n",
    "    for (sentence1, sentence2) in zip(inputs, outputs):\n",
    "        # tokenize sentence\n",
    "        sentence1 = START_TOKEN + tokenizer.encode(sentence1) + END_TOKEN\n",
    "        sentence2 = START_TOKEN + tokenizer.encode(sentence2) + END_TOKEN\n",
    "        # check tokenized sentence max length\n",
    "        if len(sentence1) <= MAX_LENGTH and len(sentence2) <= MAX_LENGTH:\n",
    "            tokenized_inputs.append(sentence1)\n",
    "            tokenized_outputs.append(sentence2)\n",
    "\n",
    "    # pad tokenized sentences\n",
    "    tokenized_inputs = tf.keras.preprocessing.sequence.pad_sequences(\n",
    "        tokenized_inputs, maxlen=MAX_LENGTH, padding=\"post\"\n",
    "    )\n",
    "    tokenized_outputs = tf.keras.preprocessing.sequence.pad_sequences(\n",
    "        tokenized_outputs, maxlen=MAX_LENGTH, padding=\"post\"\n",
    "    )\n",
    "\n",
    "    return tokenized_inputs, tokenized_outputs\n",
    "\n",
    "\n",
    "questions, answers = tokenize_and_filter(questions, answers)"
   ]
  },
  {
   "cell_type": "code",
   "execution_count": 10,
   "metadata": {
    "colab": {
     "base_uri": "https://localhost:8080/"
    },
    "id": "pohHm8IRWlIH",
    "outputId": "0ec13445-de34-4309-cb5a-c336cd4e78da",
    "pycharm": {
     "name": "#%%\n"
    }
   },
   "outputs": [
    {
     "name": "stdout",
     "output_type": "stream",
     "text": [
      "Vocab size: 8219\n",
      "Number of samples: 448771\n"
     ]
    }
   ],
   "source": [
    "print(f\"Vocab size: {VOCAB_SIZE}\")\n",
    "print(f\"Number of samples: {len(questions)}\")"
   ]
  },
  {
   "cell_type": "markdown",
   "metadata": {
    "id": "S50jT4upWh5c",
    "pycharm": {
     "name": "#%% md\n"
    }
   },
   "source": [
    "### Create `tf.data.Dataset`\n"
   ]
  },
  {
   "cell_type": "code",
   "execution_count": 11,
   "metadata": {
    "id": "pttC3XxgAXWQ",
    "pycharm": {
     "name": "#%%\n"
    }
   },
   "outputs": [],
   "source": [
    "# decoder inputs use the previous target as input\n",
    "# remove START_TOKEN from targets\n",
    "dataset = tf.data.Dataset.from_tensor_slices(\n",
    "    (\n",
    "        {\"inputs\": questions, \"dec_inputs\": answers[:, :-1]},\n",
    "        {\"outputs\": answers[:, 1:]},\n",
    "    )\n",
    ")\n",
    "\n",
    "dataset = dataset.cache()\n",
    "dataset = dataset.shuffle(BUFFER_SIZE)\n",
    "dataset = dataset.batch(BATCH_SIZE)\n",
    "dataset = dataset.prefetch(tf.data.AUTOTUNE)"
   ]
  },
  {
   "cell_type": "code",
   "execution_count": 12,
   "metadata": {
    "colab": {
     "base_uri": "https://localhost:8080/"
    },
    "id": "mU8yNWpwPlS7",
    "outputId": "8a2dffce-9f19-4f7f-9c5e-4b946bcfb5ff",
    "pycharm": {
     "name": "#%%\n"
    }
   },
   "outputs": [
    {
     "name": "stdout",
     "output_type": "stream",
     "text": [
      "<PrefetchDataset element_spec=({'inputs': TensorSpec(shape=(None, 50), dtype=tf.int32, name=None), 'dec_inputs': TensorSpec(shape=(None, 49), dtype=tf.int32, name=None)}, {'outputs': TensorSpec(shape=(None, 49), dtype=tf.int32, name=None)})>\n"
     ]
    }
   ],
   "source": [
    "print(dataset)"
   ]
  },
  {
   "cell_type": "markdown",
   "metadata": {
    "id": "s9eeMPjGXmI1",
    "pycharm": {
     "name": "#%% md\n"
    }
   },
   "source": [
    "## Attention\n",
    "\n"
   ]
  },
  {
   "cell_type": "markdown",
   "metadata": {
    "id": "uctkwvPZVSzu",
    "pycharm": {
     "name": "#%% md\n"
    }
   },
   "source": [
    "### Scaled dot product Attention\n"
   ]
  },
  {
   "cell_type": "code",
   "execution_count": 8,
   "metadata": {
    "id": "ENfqAFna_50H",
    "pycharm": {
     "name": "#%%\n"
    }
   },
   "outputs": [],
   "source": [
    "def scaled_dot_product_attention(query, key, value, mask):\n",
    "    \"\"\"Calculate the attention weights.\"\"\"\n",
    "    matmul_qk = tf.matmul(query, key, transpose_b=True)\n",
    "\n",
    "    # scale matmul_qk\n",
    "    depth = tf.cast(tf.shape(key)[-1], tf.float32)\n",
    "    logits = matmul_qk / tf.math.sqrt(depth)\n",
    "\n",
    "    # add the mask to zero out padding tokens\n",
    "    if mask is not None:\n",
    "        logits += mask * -1e9\n",
    "\n",
    "    # softmax is normalized on the last axis (seq_len_k)\n",
    "    attention_weights = tf.nn.softmax(logits, axis=-1)\n",
    "\n",
    "    output = tf.matmul(attention_weights, value)\n",
    "\n",
    "    return output"
   ]
  },
  {
   "cell_type": "markdown",
   "metadata": {
    "id": "XwmOB9HvVbyh",
    "pycharm": {
     "name": "#%% md\n"
    }
   },
   "source": [
    "### Multi-head attention\n"
   ]
  },
  {
   "cell_type": "code",
   "execution_count": 5,
   "metadata": {
    "id": "L9eYssGIAG4h",
    "pycharm": {
     "name": "#%%\n"
    }
   },
   "outputs": [],
   "source": [
    "class MultiHeadAttentionLayer(tf.keras.layers.Layer):\n",
    "    def __init__(self, d_model, num_heads, **kwargs):\n",
    "        assert d_model % num_heads == 0\n",
    "        super(MultiHeadAttentionLayer, self).__init__(**kwargs)\n",
    "        self.num_heads = num_heads\n",
    "        self.d_model = d_model\n",
    "\n",
    "        self.depth = d_model // self.num_heads\n",
    "\n",
    "        self.query_dense = tf.keras.layers.Dense(units=d_model)\n",
    "        self.key_dense = tf.keras.layers.Dense(units=d_model)\n",
    "        self.value_dense = tf.keras.layers.Dense(units=d_model)\n",
    "\n",
    "        self.dense = tf.keras.layers.Dense(units=d_model)\n",
    "\n",
    "    def get_config(self):\n",
    "        config = super(MultiHeadAttentionLayer, self).get_config()\n",
    "        config.update(\n",
    "            {\n",
    "                \"num_heads\": self.num_heads,\n",
    "                \"d_model\": self.d_model,\n",
    "            }\n",
    "        )\n",
    "        return config\n",
    "\n",
    "    def split_heads(self, inputs, batch_size):\n",
    "        inputs = tf.keras.layers.Lambda(\n",
    "            lambda inputs: tf.reshape(\n",
    "                inputs, shape=(batch_size, -1, self.num_heads, self.depth)\n",
    "            )\n",
    "        )(inputs)\n",
    "        return tf.keras.layers.Lambda(\n",
    "            lambda inputs: tf.transpose(inputs, perm=[0, 2, 1, 3])\n",
    "        )(inputs)\n",
    "\n",
    "    def call(self, inputs):\n",
    "        query, key, value, mask = (\n",
    "            inputs[\"query\"],\n",
    "            inputs[\"key\"],\n",
    "            inputs[\"value\"],\n",
    "            inputs[\"mask\"],\n",
    "        )\n",
    "        batch_size = tf.shape(query)[0]\n",
    "\n",
    "        # linear layers\n",
    "        query = self.query_dense(query)\n",
    "        key = self.key_dense(key)\n",
    "        value = self.value_dense(value)\n",
    "\n",
    "        # split heads\n",
    "        query = self.split_heads(query, batch_size)\n",
    "        key = self.split_heads(key, batch_size)\n",
    "        value = self.split_heads(value, batch_size)\n",
    "\n",
    "        # scaled dot-product attention\n",
    "        scaled_attention = scaled_dot_product_attention(query, key, value, mask)\n",
    "        scaled_attention = tf.keras.layers.Lambda(\n",
    "            lambda scaled_attention: tf.transpose(scaled_attention, perm=[0, 2, 1, 3])\n",
    "        )(scaled_attention)\n",
    "\n",
    "        # concatenation of heads\n",
    "        concat_attention = tf.keras.layers.Lambda(\n",
    "            lambda scaled_attention: tf.reshape(\n",
    "                scaled_attention, (batch_size, -1, self.d_model)\n",
    "            )\n",
    "        )(scaled_attention)\n",
    "\n",
    "        # final linear layer\n",
    "        outputs = self.dense(concat_attention)\n",
    "\n",
    "        return outputs"
   ]
  },
  {
   "cell_type": "markdown",
   "metadata": {
    "id": "eDUX7Oa8Xudj",
    "pycharm": {
     "name": "#%% md\n"
    }
   },
   "source": [
    "## Transformer"
   ]
  },
  {
   "cell_type": "markdown",
   "metadata": {
    "id": "x5QlgXsxYirg",
    "pycharm": {
     "name": "#%% md\n"
    }
   },
   "source": [
    "### Masking\n",
    "\n"
   ]
  },
  {
   "cell_type": "code",
   "execution_count": 10,
   "metadata": {
    "id": "imCQ0jrvWhC7",
    "pycharm": {
     "name": "#%%\n"
    }
   },
   "outputs": [],
   "source": [
    "def create_padding_mask(x):\n",
    "    mask = tf.cast(tf.math.equal(x, 0), tf.float32)\n",
    "    # (batch_size, 1, 1, sequence length)\n",
    "    return mask[:, tf.newaxis, tf.newaxis, :]"
   ]
  },
  {
   "cell_type": "code",
   "execution_count": 11,
   "metadata": {
    "id": "HSVdD2zKWaXx",
    "pycharm": {
     "name": "#%%\n"
    }
   },
   "outputs": [],
   "source": [
    "def create_look_ahead_mask(x):\n",
    "    seq_len = tf.shape(x)[1]\n",
    "    look_ahead_mask = 1 - tf.linalg.band_part(tf.ones((seq_len, seq_len)), -1, 0)\n",
    "    padding_mask = create_padding_mask(x)\n",
    "    return tf.maximum(look_ahead_mask, padding_mask)"
   ]
  },
  {
   "cell_type": "markdown",
   "metadata": {
    "id": "TpR7kz4jFkPJ",
    "pycharm": {
     "name": "#%% md\n"
    }
   },
   "source": [
    "### Positional encoding\n",
    "\n"
   ]
  },
  {
   "cell_type": "code",
   "execution_count": 12,
   "metadata": {
    "id": "-9Oibz2es-qW",
    "pycharm": {
     "name": "#%%\n"
    }
   },
   "outputs": [],
   "source": [
    "class PositionalEncoding(tf.keras.layers.Layer):\n",
    "    def __init__(self, position, d_model, **kwargs):\n",
    "        super(PositionalEncoding, self).__init__(**kwargs)\n",
    "        self.position = position\n",
    "        self.d_model = d_model\n",
    "        self.pos_encoding = self.positional_encoding(position, d_model)\n",
    "\n",
    "    def get_config(self):\n",
    "        config = super(PositionalEncoding, self).get_config()\n",
    "        config.update(\n",
    "            {\n",
    "                \"position\": self.position,\n",
    "                \"d_model\": self.d_model,\n",
    "            }\n",
    "        )\n",
    "        return config\n",
    "\n",
    "    def get_angles(self, position, i, d_model):\n",
    "        angles = 1 / tf.pow(10000, (2 * (i // 2)) / tf.cast(d_model, tf.float32))\n",
    "        return position * angles\n",
    "\n",
    "    def positional_encoding(self, position, d_model):\n",
    "        angle_rads = self.get_angles(\n",
    "            position=tf.range(position, dtype=tf.float32)[:, tf.newaxis],\n",
    "            i=tf.range(d_model, dtype=tf.float32)[tf.newaxis, :],\n",
    "            d_model=d_model,\n",
    "        )\n",
    "        # apply sin to even index in the array\n",
    "        sines = tf.math.sin(angle_rads[:, 0::2])\n",
    "        # apply cos to odd index in the array\n",
    "        cosines = tf.math.cos(angle_rads[:, 1::2])\n",
    "\n",
    "        pos_encoding = tf.concat([sines, cosines], axis=-1)\n",
    "        pos_encoding = pos_encoding[tf.newaxis, ...]\n",
    "        return tf.cast(pos_encoding, tf.float32)\n",
    "\n",
    "    def call(self, inputs):\n",
    "        return inputs + self.pos_encoding[:, : tf.shape(inputs)[1], :]"
   ]
  },
  {
   "cell_type": "markdown",
   "metadata": {
    "id": "HVazCemoW2Ye",
    "pycharm": {
     "name": "#%% md\n"
    }
   },
   "source": [
    "### Encoder Layer\n",
    "\n"
   ]
  },
  {
   "cell_type": "code",
   "execution_count": 13,
   "metadata": {
    "id": "5guJOLJmfcuX",
    "pycharm": {
     "name": "#%%\n"
    }
   },
   "outputs": [],
   "source": [
    "def encoder_layer(units, d_model, num_heads, dropout, name=\"encoder_layer\"):\n",
    "    inputs = tf.keras.Input(shape=(None, d_model), name=\"inputs\")\n",
    "    padding_mask = tf.keras.Input(shape=(1, 1, None), name=\"padding_mask\")\n",
    "\n",
    "    attention = MultiHeadAttentionLayer(d_model, num_heads, name=\"attention\")(\n",
    "        {\"query\": inputs, \"key\": inputs, \"value\": inputs, \"mask\": padding_mask}\n",
    "    )\n",
    "    attention = tf.keras.layers.Dropout(rate=dropout)(attention)\n",
    "    add_attention = tf.keras.layers.add([inputs, attention])\n",
    "    attention = tf.keras.layers.LayerNormalization(epsilon=1e-6)(add_attention)\n",
    "\n",
    "    outputs = tf.keras.layers.Dense(units=units, activation=\"relu\")(attention)\n",
    "    outputs = tf.keras.layers.Dense(units=d_model)(outputs)\n",
    "    outputs = tf.keras.layers.Dropout(rate=dropout)(outputs)\n",
    "    add_attention = tf.keras.layers.add([attention, outputs])\n",
    "    outputs = tf.keras.layers.LayerNormalization(epsilon=1e-6)(add_attention)\n",
    "\n",
    "    return tf.keras.Model(inputs=[inputs, padding_mask], outputs=outputs, name=name)"
   ]
  },
  {
   "cell_type": "markdown",
   "metadata": {
    "id": "9r8lWGClfi_1",
    "pycharm": {
     "name": "#%% md\n"
    }
   },
   "source": [
    "### Encoder\n"
   ]
  },
  {
   "cell_type": "code",
   "execution_count": 14,
   "metadata": {
    "id": "LRfugon5Wy-Y",
    "pycharm": {
     "name": "#%%\n"
    }
   },
   "outputs": [],
   "source": [
    "def encoder(vocab_size, num_layers, units, d_model, num_heads, dropout, name=\"encoder\"):\n",
    "    inputs = tf.keras.Input(shape=(None,), name=\"inputs\")\n",
    "    padding_mask = tf.keras.Input(shape=(1, 1, None), name=\"padding_mask\")\n",
    "\n",
    "    embeddings = tf.keras.layers.Embedding(vocab_size, d_model)(inputs)\n",
    "    embeddings *= tf.keras.layers.Lambda(\n",
    "        lambda d_model: tf.math.sqrt(tf.cast(d_model, tf.float32))\n",
    "    )(d_model)\n",
    "    embeddings = PositionalEncoding(vocab_size, d_model)(embeddings)\n",
    "\n",
    "    outputs = tf.keras.layers.Dropout(rate=dropout)(embeddings)\n",
    "\n",
    "    for i in range(num_layers):\n",
    "        outputs = encoder_layer(\n",
    "            units=units,\n",
    "            d_model=d_model,\n",
    "            num_heads=num_heads,\n",
    "            dropout=dropout,\n",
    "            name=\"encoder_layer_{}\".format(i),\n",
    "        )([outputs, padding_mask])\n",
    "\n",
    "    return tf.keras.Model(inputs=[inputs, padding_mask], outputs=outputs, name=name)"
   ]
  },
  {
   "cell_type": "markdown",
   "metadata": {
    "id": "af66azvgW9P-",
    "pycharm": {
     "name": "#%% md\n"
    }
   },
   "source": [
    "### Decoder Layer\n",
    "\n"
   ]
  },
  {
   "cell_type": "code",
   "execution_count": 15,
   "metadata": {
    "id": "6mLvvNMWgDnf",
    "pycharm": {
     "name": "#%%\n"
    }
   },
   "outputs": [],
   "source": [
    "def decoder_layer(units, d_model, num_heads, dropout, name=\"decoder_layer\"):\n",
    "    inputs = tf.keras.Input(shape=(None, d_model), name=\"inputs\")\n",
    "    enc_outputs = tf.keras.Input(shape=(None, d_model), name=\"encoder_outputs\")\n",
    "    look_ahead_mask = tf.keras.Input(shape=(1, None, None), name=\"look_ahead_mask\")\n",
    "    padding_mask = tf.keras.Input(shape=(1, 1, None), name=\"padding_mask\")\n",
    "\n",
    "    attention1 = MultiHeadAttentionLayer(d_model, num_heads, name=\"attention_1\")(\n",
    "        inputs={\n",
    "            \"query\": inputs,\n",
    "            \"key\": inputs,\n",
    "            \"value\": inputs,\n",
    "            \"mask\": look_ahead_mask,\n",
    "        }\n",
    "    )\n",
    "    add_attention = tf.keras.layers.add([attention1, inputs])\n",
    "    attention1 = tf.keras.layers.LayerNormalization(epsilon=1e-6)(add_attention)\n",
    "\n",
    "    attention2 = MultiHeadAttentionLayer(d_model, num_heads, name=\"attention_2\")(\n",
    "        inputs={\n",
    "            \"query\": attention1,\n",
    "            \"key\": enc_outputs,\n",
    "            \"value\": enc_outputs,\n",
    "            \"mask\": padding_mask,\n",
    "        }\n",
    "    )\n",
    "    attention2 = tf.keras.layers.Dropout(rate=dropout)(attention2)\n",
    "    add_attention = tf.keras.layers.add([attention2, attention1])\n",
    "    attention2 = tf.keras.layers.LayerNormalization(epsilon=1e-6)(add_attention)\n",
    "\n",
    "    outputs = tf.keras.layers.Dense(units=units, activation=\"relu\")(attention2)\n",
    "    outputs = tf.keras.layers.Dense(units=d_model)(outputs)\n",
    "    outputs = tf.keras.layers.Dropout(rate=dropout)(outputs)\n",
    "    add_attention = tf.keras.layers.add([outputs, attention2])\n",
    "    outputs = tf.keras.layers.LayerNormalization(epsilon=1e-6)(add_attention)\n",
    "\n",
    "    return tf.keras.Model(\n",
    "        inputs=[inputs, enc_outputs, look_ahead_mask, padding_mask],\n",
    "        outputs=outputs,\n",
    "        name=name,\n",
    "    )"
   ]
  },
  {
   "cell_type": "markdown",
   "metadata": {
    "id": "NPSKnjS-gE_q",
    "pycharm": {
     "name": "#%% md\n"
    }
   },
   "source": [
    "### Decoder\n",
    "\n"
   ]
  },
  {
   "cell_type": "code",
   "execution_count": 16,
   "metadata": {
    "id": "dYRx7YzCW4bu",
    "pycharm": {
     "name": "#%%\n"
    }
   },
   "outputs": [],
   "source": [
    "def decoder(vocab_size, num_layers, units, d_model, num_heads, dropout, name=\"decoder\"):\n",
    "    inputs = tf.keras.Input(shape=(None,), name=\"inputs\")\n",
    "    enc_outputs = tf.keras.Input(shape=(None, d_model), name=\"encoder_outputs\")\n",
    "    look_ahead_mask = tf.keras.Input(shape=(1, None, None), name=\"look_ahead_mask\")\n",
    "    padding_mask = tf.keras.Input(shape=(1, 1, None), name=\"padding_mask\")\n",
    "\n",
    "    embeddings = tf.keras.layers.Embedding(vocab_size, d_model)(inputs)\n",
    "    embeddings *= tf.keras.layers.Lambda(\n",
    "        lambda d_model: tf.math.sqrt(tf.cast(d_model, tf.float32))\n",
    "    )(d_model)\n",
    "    embeddings = PositionalEncoding(vocab_size, d_model)(embeddings)\n",
    "\n",
    "    outputs = tf.keras.layers.Dropout(rate=dropout)(embeddings)\n",
    "\n",
    "    for i in range(num_layers):\n",
    "        outputs = decoder_layer(\n",
    "            units=units,\n",
    "            d_model=d_model,\n",
    "            num_heads=num_heads,\n",
    "            dropout=dropout,\n",
    "            name=\"decoder_layer_{}\".format(i),\n",
    "        )(inputs=[outputs, enc_outputs, look_ahead_mask, padding_mask])\n",
    "\n",
    "    return tf.keras.Model(\n",
    "        inputs=[inputs, enc_outputs, look_ahead_mask, padding_mask],\n",
    "        outputs=outputs,\n",
    "        name=name,\n",
    "    )"
   ]
  },
  {
   "cell_type": "markdown",
   "metadata": {
    "id": "yl0o97RJXAqw",
    "pycharm": {
     "name": "#%% md\n"
    }
   },
   "source": [
    "### Transformer\n",
    "\n"
   ]
  },
  {
   "cell_type": "code",
   "execution_count": 17,
   "metadata": {
    "id": "TW-v7Fz6XAfC",
    "pycharm": {
     "name": "#%%\n"
    }
   },
   "outputs": [],
   "source": [
    "def transformer(\n",
    "    vocab_size, num_layers, units, d_model, num_heads, dropout, name=\"transformer\"\n",
    "):\n",
    "    inputs = tf.keras.Input(shape=(None,), name=\"inputs\")\n",
    "    dec_inputs = tf.keras.Input(shape=(None,), name=\"dec_inputs\")\n",
    "\n",
    "    enc_padding_mask = tf.keras.layers.Lambda(\n",
    "        create_padding_mask, output_shape=(1, 1, None), name=\"enc_padding_mask\"\n",
    "    )(inputs)\n",
    "    # mask the future tokens for decoder inputs at the 1st attention block\n",
    "    look_ahead_mask = tf.keras.layers.Lambda(\n",
    "        create_look_ahead_mask, output_shape=(1, None, None), name=\"look_ahead_mask\"\n",
    "    )(dec_inputs)\n",
    "    # mask the encoder outputs for the 2nd attention block\n",
    "    dec_padding_mask = tf.keras.layers.Lambda(\n",
    "        create_padding_mask, output_shape=(1, 1, None), name=\"dec_padding_mask\"\n",
    "    )(inputs)\n",
    "\n",
    "    enc_outputs = encoder(\n",
    "        vocab_size=vocab_size,\n",
    "        num_layers=num_layers,\n",
    "        units=units,\n",
    "        d_model=d_model,\n",
    "        num_heads=num_heads,\n",
    "        dropout=dropout,\n",
    "    )(inputs=[inputs, enc_padding_mask])\n",
    "\n",
    "    dec_outputs = decoder(\n",
    "        vocab_size=vocab_size,\n",
    "        num_layers=num_layers,\n",
    "        units=units,\n",
    "        d_model=d_model,\n",
    "        num_heads=num_heads,\n",
    "        dropout=dropout,\n",
    "    )(inputs=[dec_inputs, enc_outputs, look_ahead_mask, dec_padding_mask])\n",
    "\n",
    "    outputs = tf.keras.layers.Dense(units=vocab_size, name=\"outputs\")(dec_outputs)\n",
    "\n",
    "    return tf.keras.Model(inputs=[inputs, dec_inputs], outputs=outputs, name=name)"
   ]
  },
  {
   "cell_type": "markdown",
   "metadata": {
    "id": "9HD7GK-nh_KT",
    "pycharm": {
     "name": "#%% md\n"
    }
   },
   "source": [
    "## Train model"
   ]
  },
  {
   "cell_type": "markdown",
   "metadata": {
    "id": "0_GCb0LaV1tI",
    "pycharm": {
     "name": "#%% md\n"
    }
   },
   "source": [
    "### Loss function\n",
    "\n"
   ]
  },
  {
   "cell_type": "code",
   "execution_count": 29,
   "metadata": {
    "id": "UInVM9iGAMv1",
    "pycharm": {
     "name": "#%%\n"
    }
   },
   "outputs": [],
   "source": [
    "def loss_function(y_true, y_pred):\n",
    "    y_true = tf.reshape(y_true, shape=(-1, MAX_LENGTH - 1))\n",
    "\n",
    "    loss = tf.keras.losses.SparseCategoricalCrossentropy(\n",
    "        from_logits=True, reduction=\"none\"\n",
    "    )(y_true, y_pred)\n",
    "\n",
    "    mask = tf.cast(tf.not_equal(y_true, 0), tf.float32)\n",
    "    loss = tf.multiply(loss, mask)\n",
    "\n",
    "    return tf.reduce_mean(loss)"
   ]
  },
  {
   "cell_type": "markdown",
   "metadata": {
    "id": "XvFM9ajSVybP",
    "pycharm": {
     "name": "#%% md\n"
    }
   },
   "source": [
    "### Custom learning rate\n",
    "\n"
   ]
  },
  {
   "cell_type": "code",
   "execution_count": 30,
   "metadata": {
    "id": "WW3SeLDhAMJd",
    "pycharm": {
     "name": "#%%\n"
    }
   },
   "outputs": [],
   "source": [
    "class CustomSchedule(tf.keras.optimizers.schedules.LearningRateSchedule):\n",
    "    def __init__(self, d_model, warmup_steps=4000):\n",
    "        super(CustomSchedule, self).__init__()\n",
    "\n",
    "        self.d_model = tf.constant(d_model, dtype=tf.float32)\n",
    "        self.warmup_steps = warmup_steps\n",
    "\n",
    "    def get_config(self):\n",
    "        return {\"d_model\": self.d_model, \"warmup_steps\": self.warmup_steps}\n",
    "\n",
    "    def __call__(self, step):\n",
    "        arg1 = tf.math.rsqrt(step)\n",
    "        arg2 = step * (self.warmup_steps**-1.5)\n",
    "\n",
    "        return tf.math.multiply(\n",
    "            tf.math.rsqrt(self.d_model), tf.math.minimum(arg1, arg2)\n",
    "        )"
   ]
  },
  {
   "cell_type": "markdown",
   "metadata": {
    "id": "cCqve3kwWCxd",
    "pycharm": {
     "name": "#%% md\n"
    }
   },
   "source": [
    "### Initialize and compile model\n",
    "\n"
   ]
  },
  {
   "cell_type": "code",
   "execution_count": 27,
   "metadata": {
    "colab": {
     "base_uri": "https://localhost:8080/"
    },
    "id": "1QqojIa5WEQq",
    "outputId": "ae7c7599-3b7b-49be-9c92-7e14c3256f37",
    "pycharm": {
     "name": "#%%\n"
    }
   },
   "outputs": [
    {
     "name": "stdout",
     "output_type": "stream",
     "text": [
      "INFO:tensorflow:Reduce to /job:localhost/replica:0/task:0/device:CPU:0 then broadcast to ('/job:localhost/replica:0/task:0/device:CPU:0',).\n"
     ]
    },
    {
     "name": "stderr",
     "output_type": "stream",
     "text": [
      "INFO:tensorflow:Reduce to /job:localhost/replica:0/task:0/device:CPU:0 then broadcast to ('/job:localhost/replica:0/task:0/device:CPU:0',).\n"
     ]
    },
    {
     "name": "stdout",
     "output_type": "stream",
     "text": [
      "INFO:tensorflow:Reduce to /job:localhost/replica:0/task:0/device:CPU:0 then broadcast to ('/job:localhost/replica:0/task:0/device:CPU:0',).\n"
     ]
    },
    {
     "name": "stderr",
     "output_type": "stream",
     "text": [
      "INFO:tensorflow:Reduce to /job:localhost/replica:0/task:0/device:CPU:0 then broadcast to ('/job:localhost/replica:0/task:0/device:CPU:0',).\n"
     ]
    },
    {
     "name": "stdout",
     "output_type": "stream",
     "text": [
      "INFO:tensorflow:Reduce to /job:localhost/replica:0/task:0/device:CPU:0 then broadcast to ('/job:localhost/replica:0/task:0/device:CPU:0',).\n"
     ]
    },
    {
     "name": "stderr",
     "output_type": "stream",
     "text": [
      "INFO:tensorflow:Reduce to /job:localhost/replica:0/task:0/device:CPU:0 then broadcast to ('/job:localhost/replica:0/task:0/device:CPU:0',).\n"
     ]
    },
    {
     "name": "stdout",
     "output_type": "stream",
     "text": [
      "INFO:tensorflow:Reduce to /job:localhost/replica:0/task:0/device:CPU:0 then broadcast to ('/job:localhost/replica:0/task:0/device:CPU:0',).\n"
     ]
    },
    {
     "name": "stderr",
     "output_type": "stream",
     "text": [
      "INFO:tensorflow:Reduce to /job:localhost/replica:0/task:0/device:CPU:0 then broadcast to ('/job:localhost/replica:0/task:0/device:CPU:0',).\n"
     ]
    },
    {
     "name": "stdout",
     "output_type": "stream",
     "text": [
      "Model: \"transformer\"\n",
      "__________________________________________________________________________________________________\n",
      " Layer (type)                   Output Shape         Param #     Connected to                     \n",
      "==================================================================================================\n",
      " inputs (InputLayer)            [(None, None)]       0           []                               \n",
      "                                                                                                  \n",
      " dec_inputs (InputLayer)        [(None, None)]       0           []                               \n",
      "                                                                                                  \n",
      " enc_padding_mask (Lambda)      (None, 1, 1, None)   0           ['inputs[0][0]']                 \n",
      "                                                                                                  \n",
      " encoder (Functional)           (None, None, 256)    4212480     ['inputs[0][0]',                 \n",
      "                                                                  'enc_padding_mask[0][0]']       \n",
      "                                                                                                  \n",
      " look_ahead_mask (Lambda)       (None, 1, None, Non  0           ['dec_inputs[0][0]']             \n",
      "                                e)                                                                \n",
      "                                                                                                  \n",
      " dec_padding_mask (Lambda)      (None, 1, 1, None)   0           ['inputs[0][0]']                 \n",
      "                                                                                                  \n",
      " decoder (Functional)           (None, None, 256)    5267200     ['dec_inputs[0][0]',             \n",
      "                                                                  'encoder[0][0]',                \n",
      "                                                                  'look_ahead_mask[0][0]',        \n",
      "                                                                  'dec_padding_mask[0][0]']       \n",
      "                                                                                                  \n",
      " outputs (Dense)                (None, None, 8219)   2112283     ['decoder[0][0]']                \n",
      "                                                                                                  \n",
      "==================================================================================================\n",
      "Total params: 11,591,963\n",
      "Trainable params: 11,591,963\n",
      "Non-trainable params: 0\n",
      "__________________________________________________________________________________________________\n"
     ]
    }
   ],
   "source": [
    "# clear backend\n",
    "tf.keras.backend.clear_session()\n",
    "\n",
    "learning_rate = CustomSchedule(D_MODEL)\n",
    "\n",
    "optimizer = tf.keras.optimizers.Adam(\n",
    "    learning_rate, beta_1=0.9, beta_2=0.98, epsilon=1e-9\n",
    ")\n",
    "\n",
    "\n",
    "def accuracy(y_true, y_pred):\n",
    "    # ensure labels have shape (batch_size, MAX_LENGTH - 1)\n",
    "    y_true = tf.reshape(y_true, shape=(-1, MAX_LENGTH - 1))\n",
    "    return tf.keras.metrics.sparse_categorical_accuracy(y_true, y_pred)\n",
    "\n",
    "\n",
    "# initialize and compile model within strategy scope\n",
    "with strategy.scope():\n",
    "    model = transformer(\n",
    "        vocab_size=VOCAB_SIZE,\n",
    "        num_layers=NUM_LAYERS,\n",
    "        units=UNITS,\n",
    "        d_model=D_MODEL,\n",
    "        num_heads=NUM_HEADS,\n",
    "        dropout=DROPOUT,\n",
    "    )\n",
    "\n",
    "    model.compile(optimizer=optimizer, loss=loss_function, metrics=[accuracy])\n",
    "\n",
    "model.summary()"
   ]
  },
  {
   "cell_type": "markdown",
   "metadata": {
    "id": "vDMd69urLNuc",
    "pycharm": {
     "name": "#%% md\n"
    }
   },
   "source": [
    "### Fit model\n",
    "\n"
   ]
  },
  {
   "cell_type": "code",
   "execution_count": 28,
   "metadata": {
    "colab": {
     "base_uri": "https://localhost:8080/"
    },
    "id": "d7iahRzlLNG2",
    "outputId": "62b08d90-f7f3-48ae-d190-7f207607be70",
    "pycharm": {
     "name": "#%%\n"
    }
   },
   "outputs": [
    {
     "name": "stdout",
     "output_type": "stream",
     "text": [
      "Epoch 1/60\n",
      "INFO:tensorflow:Reduce to /job:localhost/replica:0/task:0/device:CPU:0 then broadcast to ('/job:localhost/replica:0/task:0/device:CPU:0',).\n"
     ]
    },
    {
     "name": "stderr",
     "output_type": "stream",
     "text": [
      "INFO:tensorflow:Reduce to /job:localhost/replica:0/task:0/device:CPU:0 then broadcast to ('/job:localhost/replica:0/task:0/device:CPU:0',).\n"
     ]
    },
    {
     "name": "stdout",
     "output_type": "stream",
     "text": [
      "INFO:tensorflow:Reduce to /job:localhost/replica:0/task:0/device:CPU:0 then broadcast to ('/job:localhost/replica:0/task:0/device:CPU:0',).\n"
     ]
    },
    {
     "name": "stderr",
     "output_type": "stream",
     "text": [
      "INFO:tensorflow:Reduce to /job:localhost/replica:0/task:0/device:CPU:0 then broadcast to ('/job:localhost/replica:0/task:0/device:CPU:0',).\n"
     ]
    },
    {
     "name": "stdout",
     "output_type": "stream",
     "text": [
      "INFO:tensorflow:Reduce to /job:localhost/replica:0/task:0/device:CPU:0 then broadcast to ('/job:localhost/replica:0/task:0/device:CPU:0',).\n"
     ]
    },
    {
     "name": "stderr",
     "output_type": "stream",
     "text": [
      "INFO:tensorflow:Reduce to /job:localhost/replica:0/task:0/device:CPU:0 then broadcast to ('/job:localhost/replica:0/task:0/device:CPU:0',).\n"
     ]
    },
    {
     "name": "stdout",
     "output_type": "stream",
     "text": [
      "INFO:tensorflow:Reduce to /job:localhost/replica:0/task:0/device:CPU:0 then broadcast to ('/job:localhost/replica:0/task:0/device:CPU:0',).\n"
     ]
    },
    {
     "name": "stderr",
     "output_type": "stream",
     "text": [
      "INFO:tensorflow:Reduce to /job:localhost/replica:0/task:0/device:CPU:0 then broadcast to ('/job:localhost/replica:0/task:0/device:CPU:0',).\n"
     ]
    },
    {
     "name": "stdout",
     "output_type": "stream",
     "text": [
      "INFO:tensorflow:Reduce to /job:localhost/replica:0/task:0/device:CPU:0 then broadcast to ('/job:localhost/replica:0/task:0/device:CPU:0',).\n"
     ]
    },
    {
     "name": "stderr",
     "output_type": "stream",
     "text": [
      "INFO:tensorflow:Reduce to /job:localhost/replica:0/task:0/device:CPU:0 then broadcast to ('/job:localhost/replica:0/task:0/device:CPU:0',).\n"
     ]
    },
    {
     "name": "stdout",
     "output_type": "stream",
     "text": [
      "INFO:tensorflow:Reduce to /job:localhost/replica:0/task:0/device:CPU:0 then broadcast to ('/job:localhost/replica:0/task:0/device:CPU:0',).\n"
     ]
    },
    {
     "name": "stderr",
     "output_type": "stream",
     "text": [
      "INFO:tensorflow:Reduce to /job:localhost/replica:0/task:0/device:CPU:0 then broadcast to ('/job:localhost/replica:0/task:0/device:CPU:0',).\n"
     ]
    },
    {
     "name": "stdout",
     "output_type": "stream",
     "text": [
      "7013/7013 [==============================] - 488s 68ms/step - loss: 1.7241 - accuracy: 0.2264\n",
      "Epoch 2/60\n",
      "7013/7013 [==============================] - 397s 57ms/step - loss: 1.0192 - accuracy: 0.3080\n",
      "Epoch 3/60\n",
      "7013/7013 [==============================] - 467s 67ms/step - loss: 0.8952 - accuracy: 0.3285\n",
      "Epoch 4/60\n",
      "7013/7013 [==============================] - 457s 65ms/step - loss: 0.8326 - accuracy: 0.3391\n",
      "Epoch 5/60\n",
      "7013/7013 [==============================] - 440s 63ms/step - loss: 0.7931 - accuracy: 0.3463\n",
      "Epoch 6/60\n",
      "7013/7013 [==============================] - 357s 51ms/step - loss: 0.7649 - accuracy: 0.3511\n",
      "Epoch 7/60\n",
      "7013/7013 [==============================] - 373s 53ms/step - loss: 0.7433 - accuracy: 0.3551\n",
      "Epoch 8/60\n",
      "7013/7013 [==============================] - 385s 55ms/step - loss: 0.7260 - accuracy: 0.3582\n",
      "Epoch 9/60\n",
      "7013/7013 [==============================] - 383s 55ms/step - loss: 0.7120 - accuracy: 0.3607\n",
      "Epoch 10/60\n",
      "7013/7013 [==============================] - 401s 57ms/step - loss: 0.6998 - accuracy: 0.3630\n",
      "Epoch 11/60\n",
      "7013/7013 [==============================] - 399s 57ms/step - loss: 0.6893 - accuracy: 0.3649\n",
      "Epoch 12/60\n",
      "7013/7013 [==============================] - 404s 58ms/step - loss: 0.6805 - accuracy: 0.3666\n",
      "Epoch 13/60\n",
      "7013/7013 [==============================] - 382s 54ms/step - loss: 0.6725 - accuracy: 0.3680\n",
      "Epoch 14/60\n",
      "7013/7013 [==============================] - 385s 55ms/step - loss: 0.6653 - accuracy: 0.3694\n",
      "Epoch 15/60\n",
      "7013/7013 [==============================] - 416s 59ms/step - loss: 0.6588 - accuracy: 0.3706\n",
      "Epoch 16/60\n",
      "7013/7013 [==============================] - 489s 70ms/step - loss: 0.6531 - accuracy: 0.3717\n",
      "Epoch 17/60\n",
      "7013/7013 [==============================] - 406s 58ms/step - loss: 0.6475 - accuracy: 0.3727\n",
      "Epoch 18/60\n",
      "7013/7013 [==============================] - 306s 44ms/step - loss: 0.6425 - accuracy: 0.3737\n",
      "Epoch 19/60\n",
      "7013/7013 [==============================] - 302s 43ms/step - loss: 0.6381 - accuracy: 0.3745\n",
      "Epoch 20/60\n",
      "7013/7013 [==============================] - 303s 43ms/step - loss: 0.6338 - accuracy: 0.3753\n",
      "Epoch 21/60\n",
      "7013/7013 [==============================] - 305s 43ms/step - loss: 0.6296 - accuracy: 0.3761\n",
      "Epoch 22/60\n",
      "7013/7013 [==============================] - 304s 43ms/step - loss: 0.6258 - accuracy: 0.3768\n",
      "Epoch 23/60\n",
      "7013/7013 [==============================] - 305s 43ms/step - loss: 0.6224 - accuracy: 0.3775\n",
      "Epoch 24/60\n",
      "7013/7013 [==============================] - 305s 43ms/step - loss: 0.6192 - accuracy: 0.3781\n",
      "Epoch 25/60\n",
      "7013/7013 [==============================] - 305s 43ms/step - loss: 0.6158 - accuracy: 0.3788\n",
      "Epoch 26/60\n",
      "7013/7013 [==============================] - 305s 43ms/step - loss: 0.6129 - accuracy: 0.3793\n",
      "Epoch 27/60\n",
      "7013/7013 [==============================] - 304s 43ms/step - loss: 0.6099 - accuracy: 0.3799\n",
      "Epoch 28/60\n",
      "7013/7013 [==============================] - 304s 43ms/step - loss: 0.6074 - accuracy: 0.3803\n",
      "Epoch 29/60\n",
      "7013/7013 [==============================] - 305s 44ms/step - loss: 0.6049 - accuracy: 0.3808\n",
      "Epoch 30/60\n",
      "7013/7013 [==============================] - 305s 43ms/step - loss: 0.6022 - accuracy: 0.3813\n",
      "Epoch 31/60\n",
      "7013/7013 [==============================] - 304s 43ms/step - loss: 0.5997 - accuracy: 0.3818\n",
      "Epoch 32/60\n",
      "7013/7013 [==============================] - 304s 43ms/step - loss: 0.5976 - accuracy: 0.3822\n",
      "Epoch 33/60\n",
      "7013/7013 [==============================] - 305s 43ms/step - loss: 0.5955 - accuracy: 0.3826\n",
      "Epoch 34/60\n",
      "7013/7013 [==============================] - 305s 43ms/step - loss: 0.5933 - accuracy: 0.3831\n",
      "Epoch 35/60\n",
      "7013/7013 [==============================] - 305s 43ms/step - loss: 0.5914 - accuracy: 0.3835\n",
      "Epoch 36/60\n",
      "7013/7013 [==============================] - 305s 43ms/step - loss: 0.5895 - accuracy: 0.3837\n",
      "Epoch 37/60\n",
      "7013/7013 [==============================] - 305s 43ms/step - loss: 0.5876 - accuracy: 0.3841\n",
      "Epoch 38/60\n",
      "7013/7013 [==============================] - 305s 43ms/step - loss: 0.5858 - accuracy: 0.3845\n",
      "Epoch 39/60\n",
      "7013/7013 [==============================] - 304s 43ms/step - loss: 0.5840 - accuracy: 0.3848\n",
      "Epoch 40/60\n",
      "7013/7013 [==============================] - 301s 43ms/step - loss: 0.5824 - accuracy: 0.3851\n",
      "Epoch 41/60\n",
      "7013/7013 [==============================] - 291s 41ms/step - loss: 0.5809 - accuracy: 0.3854\n",
      "Epoch 42/60\n",
      "7013/7013 [==============================] - 290s 41ms/step - loss: 0.5792 - accuracy: 0.3857\n",
      "Epoch 43/60\n",
      "7013/7013 [==============================] - 290s 41ms/step - loss: 0.5774 - accuracy: 0.3861\n",
      "Epoch 44/60\n",
      "7013/7013 [==============================] - 290s 41ms/step - loss: 0.5760 - accuracy: 0.3863\n",
      "Epoch 45/60\n",
      "7013/7013 [==============================] - 292s 42ms/step - loss: 0.5746 - accuracy: 0.3865\n",
      "Epoch 46/60\n",
      "7013/7013 [==============================] - 291s 42ms/step - loss: 0.5731 - accuracy: 0.3869\n",
      "Epoch 47/60\n",
      "7013/7013 [==============================] - 291s 41ms/step - loss: 0.5714 - accuracy: 0.3872\n",
      "Epoch 48/60\n",
      "7013/7013 [==============================] - 291s 42ms/step - loss: 0.5702 - accuracy: 0.3874\n",
      "Epoch 49/60\n",
      "7013/7013 [==============================] - 291s 42ms/step - loss: 0.5688 - accuracy: 0.3877\n",
      "Epoch 50/60\n",
      "7013/7013 [==============================] - 292s 42ms/step - loss: 0.5676 - accuracy: 0.3879\n",
      "Epoch 51/60\n",
      "7013/7013 [==============================] - 291s 41ms/step - loss: 0.5663 - accuracy: 0.3881\n",
      "Epoch 52/60\n",
      "7013/7013 [==============================] - 291s 41ms/step - loss: 0.5648 - accuracy: 0.3884\n",
      "Epoch 53/60\n",
      "7013/7013 [==============================] - 291s 41ms/step - loss: 0.5638 - accuracy: 0.3886\n",
      "Epoch 54/60\n",
      "7013/7013 [==============================] - 291s 42ms/step - loss: 0.5625 - accuracy: 0.3889\n",
      "Epoch 55/60\n",
      "7013/7013 [==============================] - 291s 42ms/step - loss: 0.5611 - accuracy: 0.3891\n",
      "Epoch 56/60\n",
      "7013/7013 [==============================] - 291s 41ms/step - loss: 0.5601 - accuracy: 0.3892\n",
      "Epoch 57/60\n",
      "7013/7013 [==============================] - 292s 42ms/step - loss: 0.5590 - accuracy: 0.3895\n",
      "Epoch 58/60\n",
      "7013/7013 [==============================] - 291s 41ms/step - loss: 0.5579 - accuracy: 0.3896\n",
      "Epoch 59/60\n",
      "7013/7013 [==============================] - 291s 41ms/step - loss: 0.5568 - accuracy: 0.3899\n",
      "Epoch 60/60\n",
      "7013/7013 [==============================] - 291s 41ms/step - loss: 0.5559 - accuracy: 0.3900\n"
     ]
    },
    {
     "data": {
      "text/plain": [
       "<keras.callbacks.History at 0x28a5ddbfa60>"
      ]
     },
     "execution_count": 28,
     "metadata": {},
     "output_type": "execute_result"
    }
   ],
   "source": [
    "model.fit(dataset, epochs=EPOCHS)"
   ]
  },
  {
   "cell_type": "markdown",
   "metadata": {
    "id": "xRsSO_I3NdRt",
    "pycharm": {
     "name": "#%% md\n"
    }
   },
   "source": [
    "### Save and load model"
   ]
  },
  {
   "cell_type": "code",
   "execution_count": 29,
   "metadata": {
    "id": "lDd64uI9NdRt",
    "pycharm": {
     "name": "#%%\n"
    }
   },
   "outputs": [],
   "source": [
    "filename = \"model_final.h5\"\n",
    "tf.keras.models.save_model(model, filepath=filename, include_optimizer=False)"
   ]
  },
  {
   "cell_type": "code",
   "execution_count": 30,
   "metadata": {
    "id": "W0fspHMnZPJl"
   },
   "outputs": [],
   "source": [
    "del model\n",
    "tf.keras.backend.clear_session()"
   ]
  },
  {
   "cell_type": "code",
   "execution_count": 18,
   "metadata": {
    "id": "iy9YljYEZQmX"
   },
   "outputs": [],
   "source": [
    "#import tensorflow as tf\n",
    "filename = \"model.h5\"\n",
    "model = tf.keras.models.load_model(\n",
    "    filename,\n",
    "    custom_objects={\n",
    "        \"PositionalEncoding\": PositionalEncoding,\n",
    "        \"MultiHeadAttentionLayer\": MultiHeadAttentionLayer,\n",
    "    },\n",
    "    compile=False,\n",
    ")"
   ]
  },
  {
   "cell_type": "markdown",
   "metadata": {
    "id": "p1DUXog6WqV-",
    "pycharm": {
     "name": "#%% md\n"
    }
   },
   "source": [
    "## Evaluate and predict\n"
   ]
  },
  {
   "cell_type": "code",
   "execution_count": 19,
   "metadata": {
    "id": "_NjsS3zuAbRn",
    "pycharm": {
     "name": "#%%\n"
    }
   },
   "outputs": [],
   "source": [
    "def evaluate(sentence):\n",
    "    sentence = preprocess_sentence(sentence)\n",
    "\n",
    "    sentence = tf.expand_dims(\n",
    "        START_TOKEN + tokenizer.encode(sentence) + END_TOKEN, axis=0\n",
    "    )\n",
    "\n",
    "    output = tf.expand_dims(START_TOKEN, 0)\n",
    "\n",
    "    for i in range(MAX_LENGTH):\n",
    "        predictions = model(inputs=[sentence, output], training=False)\n",
    "\n",
    "        # select the last word from the seq_len dimension\n",
    "        predictions = predictions[:, -1:, :]\n",
    "        predicted_id = tf.cast(tf.argmax(predictions, axis=-1), tf.int32)\n",
    "\n",
    "        # return the result if the predicted_id is equal to the end token\n",
    "        if tf.equal(predicted_id, END_TOKEN[0]):\n",
    "            break\n",
    "\n",
    "        # concatenated the predicted_id to the output which is given to the decoder\n",
    "        # as its input.\n",
    "        output = tf.concat([output, predicted_id], axis=-1)\n",
    "\n",
    "    return tf.squeeze(output, axis=0)\n",
    "\n",
    "\n",
    "def predict(sentence):\n",
    "    prediction = evaluate(sentence)\n",
    "    predicted_sentence = tokenizer.decode(\n",
    "        [i for i in prediction if i < tokenizer.vocab_size]\n",
    "    )\n",
    "    return predicted_sentence"
   ]
  },
  {
   "cell_type": "code",
   "execution_count": 20,
   "metadata": {
    "id": "s5zG7i8KAtRU",
    "pycharm": {
     "name": "#%%\n"
    }
   },
   "outputs": [],
   "source": [
    "import random\n",
    "import requests\n",
    "import nltk\n",
    "import os\n",
    "\n",
    "end_prompt = \"Or type 'leave' to end then chat\"\n",
    "\n",
    "start_prompts = [\n",
    "    \"Greetings, fellow Minecraft enthusiast! What's your handle? And where do you call home in the real world?\",\n",
    "    \"Hi there! This bot is here to talk all things Minecraft. What should I call you? Where are you from?\",\n",
    "    \"Greetings! I'm here to discuss Minecraft with you. What's your name? Where are you from?\",\n",
    "    \"Hey there! Ready to dive into the world of Minecraft? What can I call you? Where do you hail from?\",\n",
    "    \"Hi! Are you ready to chat about Minecraft? What's your name? Where are you from?\"\n",
    "]\n",
    "\n",
    "query_prompts = [\n",
    "    \"What specific aspect of Minecraft are you curious about today?\",\n",
    "    \"Interested in learning more about a particular Minecraft update or feature? Let me know!\",\n",
    "    \"Is there a Minecraft fact or trivia you're unclear about? Feel free to ask!\",\n",
    "    \"Looking to discuss Minecraft's gameplay or mechanics? Just tell me what you'd like to know.\",\n",
    "    \"Want to delve into the details of Minecraft's world or development? Ask away!\"\n",
    "]\n",
    "\n",
    "sorry_prompts = [\n",
    "        \"I'm sorry, I couldn't find a relevant response.\",\n",
    "        \"Apologies, but I couldn't find an answer.\",\n",
    "        \"I'm sorry, I couldn't locate the information you're looking for.\",\n",
    "        \"Unfortunately, I couldn't find the answer to your question.\",\n",
    "        \"Sorry, I couldn't find any information related to your query.\",\n",
    "        \"I'm afraid I don't have an answer for that at the moment.\",\n",
    "        \"Sorry, I couldn't find any relevant information.\",\n",
    "        \"Unfortunately, I'm unable to provide an answer at this time.\",\n",
    "        \"I'm sorry, but I couldn't find any relevant information on that topic.\",\n",
    "        \"Apologies, I couldn't find what you were looking for.\"\n",
    "    ]\n",
    "\n",
    "thank_you_prompts = [\n",
    "    \"Thank you for using the bot! Have a great day!\",\n",
    "    \"Thanks for chatting with me! Take care!\",\n",
    "    \"Appreciate your interaction with the bot! If you'd like to chat again, you're always welcome.\",\n",
    "    \"Thank you for your questions! If you ever want to chat again, don't hesitate to return.\",\n",
    "    \"Thanks for using the bot! Have a wonderful day ahead!\",\n",
    "]\n",
    "\n",
    "ask_list = [\n",
    "    \"Is there anything else I can assist you with regarding Minecraft?\",\n",
    "    \"Do you have any other questions about Minecraft?\",\n",
    "    \"Would you like to inquire about something else related to Minecraft?\",\n",
    "    \"Is there any other aspect of Minecraft you're curious about?\",\n",
    "    \"Do you need information on another Minecraft update or feature?\",\n",
    "    \"Are there additional Minecraft-related queries you'd like to explore?\",\n",
    "    \"Is there something else about Minecraft's gameplay or mechanics you'd like to know?\",\n",
    "    \"Are there any further questions you have about Minecraft?\"\n",
    "]\n",
    "\n",
    "\n",
    "\n"
   ]
  },
  {
   "cell_type": "code",
   "execution_count": 21,
   "metadata": {
    "id": "Ksy6vU967jO3"
   },
   "outputs": [],
   "source": [
    "def extract_personal_info(user_response):\n",
    "    # Tokenize the user's response into words\n",
    "    words = nltk.word_tokenize(user_response)\n",
    "\n",
    "    # Perform Named Entity Recognition (NER)\n",
    "    ne_tags = nltk.pos_tag(words)\n",
    "    named_entities = nltk.ne_chunk(ne_tags)\n",
    "\n",
    "    # Initialize variables to store extracted information\n",
    "    personal_info = {'Location': None, 'Organization': None}\n",
    "\n",
    "    # Extract personal information from the named entities\n",
    "    for entity in named_entities:\n",
    "        if isinstance(entity, nltk.tree.Tree):\n",
    "            if entity.label() == 'GPE' and personal_info['Location'] is None:\n",
    "                # Extract location if not already extracted\n",
    "                personal_info['Location'] = ' '.join([leaf[0] for leaf in entity.leaves()])\n",
    "            elif entity.label() == 'ORGANIZATION' and personal_info['Organization'] is None:\n",
    "                # Extract organization if not already extracted\n",
    "                personal_info['Organization'] = ' '.join([leaf[0] for leaf in entity.leaves()])\n",
    "\n",
    "    return personal_info"
   ]
  },
  {
   "cell_type": "code",
   "execution_count": 22,
   "metadata": {
    "id": "6097P7fI7h8u"
   },
   "outputs": [],
   "source": [
    "def process_name(response):\n",
    "    # Tokenize the user's response into words\n",
    "    words = nltk.word_tokenize(response)\n",
    "\n",
    "    # Perform Named Entity Recognition (NER)\n",
    "    ne_tags = nltk.pos_tag(words)\n",
    "    named_entities = nltk.ne_chunk(ne_tags)\n",
    "\n",
    "    # Extract names from the named entities\n",
    "    names = []\n",
    "    for entity in named_entities:\n",
    "        if isinstance(entity, nltk.tree.Tree) and entity.label() == 'PERSON':\n",
    "            names.append(' '.join([leaf[0] for leaf in entity.leaves()]))\n",
    "\n",
    "    # Return extracted names\n",
    "    if names:\n",
    "        if len(names) < 2:\n",
    "            return names[0]\n",
    "        else:\n",
    "            return names[0] + ' ' + names[1]\n",
    "    else:\n",
    "        return None"
   ]
  },
  {
   "cell_type": "code",
   "execution_count": 23,
   "metadata": {
    "id": "Nv_ragvz7u2Z"
   },
   "outputs": [],
   "source": [
    "USER_DATA_DIR = \"user_data\"\n",
    "def check_user_model(name):\n",
    "    user_file_path = os.path.join(USER_DATA_DIR, f\"{name.lower()}.txt\")\n",
    "    if os.path.exists(user_file_path):\n",
    "        return True\n",
    "    return False\n",
    "\n",
    "def load_user_model(name):\n",
    "    user_file_path = os.path.join(USER_DATA_DIR, f\"{name.lower()}.txt\")\n",
    "    if os.path.exists(user_file_path):\n",
    "        with open(user_file_path, 'r') as user_file:\n",
    "            lines = user_file.readlines()\n",
    "            user_model = {\n",
    "                \"name\": name,\n",
    "                \"personal_info\": {},\n",
    "                \"likes\": [],\n",
    "                \"dislikes\": []\n",
    "            }\n",
    "            for line in lines[1:]:\n",
    "                key, value = line.strip().split(':', 1)\n",
    "                value = value.replace(\"[\", \"\").replace(\"]\", \"\").replace(\"'\", \"\")\n",
    "                value = value.strip()\n",
    "                if key == \"likes\" or key == \"dislikes\":\n",
    "                    user_model[key].append(value)\n",
    "                else:\n",
    "                    user_model[\"personal_info\"][key] = value\n",
    "        return user_model\n",
    "    else:\n",
    "        return {\"name\": name, \"personal_info\": {}, \"likes\": [], \"dislikes\": []}\n",
    "\n",
    "def save_user_model(user_model):\n",
    "    name = user_model[\"name\"]\n",
    "    user_file_path = os.path.join(USER_DATA_DIR, f\"{name.lower()}.txt\")\n",
    "    try:\n",
    "        os.makedirs(USER_DATA_DIR, exist_ok=True)\n",
    "        with open(user_file_path, 'w') as user_file:\n",
    "            user_file.write(f\"Name: {user_model['name']}\\n\")\n",
    "            for key, value in user_model[\"personal_info\"].items():\n",
    "                user_file.write(f\"{key}: {value}\\n\")\n",
    "            for like in user_model[\"likes\"]:\n",
    "                user_file.write(f\"likes: {like}\\n\")\n",
    "            for dislike in user_model[\"dislikes\"]:\n",
    "                user_file.write(f\"dislikes: {dislike}\\n\")\n",
    "    except Exception as e:\n",
    "        return"
   ]
  },
  {
   "cell_type": "code",
   "execution_count": 24,
   "metadata": {
    "id": "mAZjF2D6A4zy"
   },
   "outputs": [],
   "source": [
    "import spacy\n",
    "\n",
    "def find_subject(prompt):\n",
    "    nlp = spacy.load(\"en_core_web_sm\")\n",
    "    doc = nlp(prompt)\n",
    "    dobj_toks = [tok for tok in doc if tok.dep_ == \"dobj\"]\n",
    "    if dobj_toks:\n",
    "        return dobj_toks[0]\n",
    "    else:\n",
    "        pobj_toks = [tok for tok in doc if tok.dep_ == \"pobj\"]\n",
    "        if pobj_toks:\n",
    "            return pobj_toks[0]\n",
    "        else:\n",
    "            return None\n"
   ]
  },
  {
   "cell_type": "code",
   "execution_count": 25,
   "metadata": {
    "id": "1NZ0KcvmRjJI"
   },
   "outputs": [],
   "source": [
    "from nltk.sentiment import SentimentIntensityAnalyzer\n",
    "\n",
    "def process_sentiment(user_model, term, user_response):\n",
    "\n",
    "    senti_analyzer = SentimentIntensityAnalyzer()\n",
    "\n",
    "    # Perform sentiment analysis on the user response\n",
    "    sentiment_score = senti_analyzer.polarity_scores(user_response)['compound']\n",
    "\n",
    "    # Update user model based on sentiment score\n",
    "    if sentiment_score > 0.05:  # Positive sentiment\n",
    "        if not term in user_model['likes']:\n",
    "            user_model['likes'].append(term)\n",
    "        if term in user_model['dislikes']:\n",
    "            user_model['dislikes'].remove(term)\n",
    "    elif sentiment_score < -0.05:  # Negative sentiment\n",
    "        if not term in user_model['dislikes']:\n",
    "            user_model['dislikes'].append(term)\n",
    "        if term in user_model['likes']:\n",
    "            user_model['likes'].remove(term)\n",
    "\n",
    "    return user_model"
   ]
  },
  {
   "cell_type": "code",
   "execution_count": 26,
   "metadata": {
    "colab": {
     "base_uri": "https://localhost:8080/"
    },
    "id": "8wYiKA_e56_s",
    "outputId": "79b00f98-2526-4cfd-9295-99b91d25de11"
   },
   "outputs": [
    {
     "name": "stdout",
     "output_type": "stream",
     "text": [
      "Hey there! Ready to dive into the world of Minecraft? What can I call you? Where do you hail from?\n"
     ]
    },
    {
     "name": "stdin",
     "output_type": "stream",
     "text": [
      "You:  I am from minesota\n"
     ]
    },
    {
     "name": "stdout",
     "output_type": "stream",
     "text": [
      "Sorry, Please Give your name again\n"
     ]
    },
    {
     "name": "stdin",
     "output_type": "stream",
     "text": [
      "You:  My name is Niranjan\n"
     ]
    },
    {
     "name": "stdout",
     "output_type": "stream",
     "text": [
      "Welcome back, Niranjan!\n",
      "I remember that you like the topics health\n",
      "What specific aspect of Minecraft are you curious about today?\n"
     ]
    },
    {
     "name": "stdin",
     "output_type": "stream",
     "text": [
      "You:  how to sleep in minecraft\n"
     ]
    },
    {
     "name": "stdout",
     "output_type": "stream",
     "text": [
      "a bed can be used as a light source in minecraft , allowing players to sleep in the end or the game s terrain .\n",
      "Is there anything else I can assist you with regarding Minecraft? Or type 'leave' to end then chat\n"
     ]
    },
    {
     "name": "stdin",
     "output_type": "stream",
     "text": [
      "You:  leave\n"
     ]
    },
    {
     "name": "stdout",
     "output_type": "stream",
     "text": [
      "Thank you for using the bot! Have a great day!\n"
     ]
    }
   ],
   "source": [
    "def main():\n",
    "\n",
    "    print(random.choice(start_prompts))\n",
    "    name = input(\"You: \")\n",
    "    personal_info = extract_personal_info(name)\n",
    "    name = process_name(name)\n",
    "\n",
    "    while name == None:\n",
    "        name = print(\"Sorry, Please Give your name again\")\n",
    "        name = input(\"You: \")\n",
    "        personal_info = extract_personal_info(name)\n",
    "        name = process_name(name)\n",
    "\n",
    "    if check_user_model(name) == True:\n",
    "        print(f\"Welcome back, {name}!\")\n",
    "    else:\n",
    "        print(f\"Nice to meet you, {name}!\")\n",
    "\n",
    "    user = load_user_model(name)\n",
    "\n",
    "    if personal_info:\n",
    "        if personal_info['Location']:\n",
    "            user['personal_info']['Location'] = personal_info['Location']\n",
    "        if personal_info['Organization']:\n",
    "            user['personal_info']['Organization'] = personal_info['Organization']\n",
    "    if user['likes']:\n",
    "        likes = \", \".join(user['likes'])\n",
    "        print(\"I remember that you like the topics\",likes)\n",
    "    print(random.choice(query_prompts))\n",
    "    # Loop to continuously prompt for input and process responses\n",
    "\n",
    "    user_input = input(\"You: \")\n",
    "    while not user_input:\n",
    "        user_input = input(\"You: \")\n",
    "\n",
    "    term = find_subject(user_input)\n",
    "    response = predict(user_input)\n",
    "    if response:\n",
    "      print(response)\n",
    "    else:\n",
    "      print(random.choice(sorry_prompts))\n",
    "    if term:\n",
    "      print(f\"Do you like {term}?\")\n",
    "      sentiment_response = input(\"You: \")\n",
    "      while not sentiment_response:\n",
    "          sentiment_response = input(\"You: \")\n",
    "      process_sentiment(user, term, sentiment_response)\n",
    "\n",
    "    while True:\n",
    "        print(random.choice(ask_list), end_prompt)\n",
    "        user_input = input(\"You: \")\n",
    "        while not user_input:\n",
    "            user_input = input(\"You: \")\n",
    "\n",
    "        if user_input.lower() in [\"exit\", \"quit\", \"leave\"]:\n",
    "            print(random.choice(thank_you_prompts))\n",
    "            save_user_model(user)\n",
    "            break\n",
    "        else:\n",
    "            term = find_subject(user_input)\n",
    "            response = predict(user_input)\n",
    "            if response:\n",
    "              print(response)\n",
    "            else:\n",
    "              print(random.choice(sorry_prompts))\n",
    "            if term:\n",
    "              print(f\"Do you like {term}?\")\n",
    "              sentiment_response = input(\"You: \")\n",
    "              while not sentiment_response:\n",
    "                  sentiment_response = input(\"You: \")\n",
    "              process_sentiment(user, term, sentiment_response)\n",
    "\n",
    "if __name__ == \"__main__\":\n",
    "    main()"
   ]
  },
  {
   "cell_type": "code",
   "execution_count": null,
   "metadata": {},
   "outputs": [],
   "source": []
  }
 ],
 "metadata": {
  "accelerator": "GPU",
  "colab": {
   "gpuType": "T4",
   "provenance": []
  },
  "kernelspec": {
   "display_name": "Python 3 (ipykernel)",
   "language": "python",
   "name": "python3"
  },
  "language_info": {
   "codemirror_mode": {
    "name": "ipython",
    "version": 3
   },
   "file_extension": ".py",
   "mimetype": "text/x-python",
   "name": "python",
   "nbconvert_exporter": "python",
   "pygments_lexer": "ipython3",
   "version": "3.11.4"
  },
  "vscode": {
   "interpreter": {
    "hash": "ae3971eee9233ad9f55ed246ea12350df9b5f24d65dffa1d8809b3ad9991640d"
   }
  }
 },
 "nbformat": 4,
 "nbformat_minor": 4
}
